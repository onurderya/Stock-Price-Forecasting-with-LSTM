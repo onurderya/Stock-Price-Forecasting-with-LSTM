{
 "cells": [
  {
   "cell_type": "markdown",
   "metadata": {},
   "source": [
    "# __Time Series Analysis with LSTM using Python's Keras Library__"
   ]
  },
  {
   "cell_type": "markdown",
   "metadata": {},
   "source": [
    "Bu deneme, Usman Malik'in Stack Abuse [içeriğinden](https://stackabuse.com/time-series-analysis-with-lstm-using-pythons-keras-library/) faydalanılarak oluşturulmuştur."
   ]
  },
  {
   "cell_type": "markdown",
   "metadata": {},
   "source": [
    "Bu denemede kullanılan veri seti [\"Yahoo Finance\"](https://finance.yahoo.com/quote/AAPL/history?period1=1356912000&period2=1514764800&interval=1d&filter=history&frequency=1d) sayfasından indirilmiştir. (Üzerine tıklayarak veriye ulaşabilirsiniz.) Algoritmayı eğitmek için 1 Ocak 2013 - 31 Aralık 2017 tarihleri arası Apple hisse senedi fiyatları, tahminleme yapmak için Ocak 2018 ayına ait Apple hisse senedi fiyarları kullanılmıştır. İndirilen veri setinde; Data, Open, High, Low, Close, Adj Close ve Volume değişkenlerinden oluşan 7 adet kolon mevcuttur. Öngörü işlemi için açılış hisse senedi fiyatı olan Open verileri kullanılacaktır. "
   ]
  },
  {
   "cell_type": "markdown",
   "metadata": {},
   "source": [
    "##### Veriyi Önizleme"
   ]
  },
  {
   "cell_type": "code",
   "execution_count": 1,
   "metadata": {},
   "outputs": [],
   "source": [
    "#Veriyi daha iyi görebilmek için pandas kütüphanesini yüklüyoruz.\n",
    "import pandas as pd "
   ]
  },
  {
   "cell_type": "code",
   "execution_count": 2,
   "metadata": {},
   "outputs": [
    {
     "data": {
      "text/html": [
       "<div>\n",
       "<style scoped>\n",
       "    .dataframe tbody tr th:only-of-type {\n",
       "        vertical-align: middle;\n",
       "    }\n",
       "\n",
       "    .dataframe tbody tr th {\n",
       "        vertical-align: top;\n",
       "    }\n",
       "\n",
       "    .dataframe thead th {\n",
       "        text-align: right;\n",
       "    }\n",
       "</style>\n",
       "<table border=\"1\" class=\"dataframe\">\n",
       "  <thead>\n",
       "    <tr style=\"text-align: right;\">\n",
       "      <th></th>\n",
       "      <th>Date</th>\n",
       "      <th>Open</th>\n",
       "      <th>High</th>\n",
       "      <th>Low</th>\n",
       "      <th>Close</th>\n",
       "      <th>Adj Close</th>\n",
       "      <th>Volume</th>\n",
       "    </tr>\n",
       "  </thead>\n",
       "  <tbody>\n",
       "    <tr>\n",
       "      <th>0</th>\n",
       "      <td>2013-01-02</td>\n",
       "      <td>79.117142</td>\n",
       "      <td>79.285713</td>\n",
       "      <td>77.375717</td>\n",
       "      <td>78.432854</td>\n",
       "      <td>68.502106</td>\n",
       "      <td>140129500</td>\n",
       "    </tr>\n",
       "    <tr>\n",
       "      <th>1</th>\n",
       "      <td>2013-01-03</td>\n",
       "      <td>78.268570</td>\n",
       "      <td>78.524284</td>\n",
       "      <td>77.285713</td>\n",
       "      <td>77.442856</td>\n",
       "      <td>67.637436</td>\n",
       "      <td>88241300</td>\n",
       "    </tr>\n",
       "    <tr>\n",
       "      <th>2</th>\n",
       "      <td>2013-01-04</td>\n",
       "      <td>76.709999</td>\n",
       "      <td>76.947144</td>\n",
       "      <td>75.118568</td>\n",
       "      <td>75.285713</td>\n",
       "      <td>65.753418</td>\n",
       "      <td>148583400</td>\n",
       "    </tr>\n",
       "    <tr>\n",
       "      <th>3</th>\n",
       "      <td>2013-01-07</td>\n",
       "      <td>74.571426</td>\n",
       "      <td>75.614288</td>\n",
       "      <td>73.599998</td>\n",
       "      <td>74.842857</td>\n",
       "      <td>65.366646</td>\n",
       "      <td>121039100</td>\n",
       "    </tr>\n",
       "    <tr>\n",
       "      <th>4</th>\n",
       "      <td>2013-01-08</td>\n",
       "      <td>75.601425</td>\n",
       "      <td>75.984283</td>\n",
       "      <td>74.464287</td>\n",
       "      <td>75.044289</td>\n",
       "      <td>65.542587</td>\n",
       "      <td>114676800</td>\n",
       "    </tr>\n",
       "  </tbody>\n",
       "</table>\n",
       "</div>"
      ],
      "text/plain": [
       "         Date       Open       High        Low      Close  Adj Close  \\\n",
       "0  2013-01-02  79.117142  79.285713  77.375717  78.432854  68.502106   \n",
       "1  2013-01-03  78.268570  78.524284  77.285713  77.442856  67.637436   \n",
       "2  2013-01-04  76.709999  76.947144  75.118568  75.285713  65.753418   \n",
       "3  2013-01-07  74.571426  75.614288  73.599998  74.842857  65.366646   \n",
       "4  2013-01-08  75.601425  75.984283  74.464287  75.044289  65.542587   \n",
       "\n",
       "      Volume  \n",
       "0  140129500  \n",
       "1   88241300  \n",
       "2  148583400  \n",
       "3  121039100  \n",
       "4  114676800  "
      ]
     },
     "execution_count": 2,
     "metadata": {},
     "output_type": "execute_result"
    }
   ],
   "source": [
    "df = pd.read_csv('Dataset.csv') #pandas'ın csv okuma özelliğiyle verisetimizi okutup dataframe olarak tanımlıyoruz.\n",
    "df.head() #dataframe değişkenimize head() ekleyerek tablonun ilk 5 değerini önizleme yapıyoruz. "
   ]
  },
  {
   "cell_type": "code",
   "execution_count": 3,
   "metadata": {},
   "outputs": [
    {
     "data": {
      "text/plain": [
       "<matplotlib.axes._subplots.AxesSubplot at 0x244d75dfa48>"
      ]
     },
     "execution_count": 3,
     "metadata": {},
     "output_type": "execute_result"
    },
    {
     "data": {
      "image/png": "[encoded data removed]",
      "text/plain": [
       "<Figure size 1080x360 with 1 Axes>"
      ]
     },
     "metadata": {
      "needs_background": "light"
     },
     "output_type": "display_data"
    }
   ],
   "source": [
    "#pandas'ın plot özelliği ile grafiğimizin özelliklerini belirliyoruz.\n",
    "#kind=line diyerek çizgi grafiği istediğimizi belirtiyoruz. X ve Y düzlemlerine aktaracağımız değişkenleri tanımlıyoruz.\n",
    "#Açılış verileriyle çalışacağımız için Open değişkenini ve Date değişkenini tanımlıyoruz.\n",
    "#figsize=() diyerek grafiğin x ve y eksen boyutlarını belirtiyoruz. (daha geniş şekilde grafiği görebilmek için (15,5) olarak belirledim.)\n",
    "df.plot(kind='line', x='Date', y='Open', figsize=(15,5)) "
   ]
  },
  {
   "cell_type": "markdown",
   "metadata": {},
   "source": [
    "Grafikte trendin çok doğrusal olmadığı görülmektedir, bu bilgilerle eğilimi yakalamak zordur. LSTM'nin gücünü burada kullanabiliriz. \n",
    "LSTM (Uzun Kısa Süreli Bellek), geçmiş bilgileri hatırlayabilen ve gelecekteki değerleri tahmin ederken bu geçmiş bilgileri dikkate alan bir derin öğrenme modelidir."
   ]
  },
  {
   "cell_type": "markdown",
   "metadata": {},
   "source": [
    "##### Kütüphanelerin Yüklenmesi"
   ]
  },
  {
   "cell_type": "code",
   "execution_count": 4,
   "metadata": {},
   "outputs": [],
   "source": [
    "import numpy as np              #Çok boyutlu diziler ve matrisler için destek içerek yüksek düzeyli matematiksel fonksiyonların geniş bir kütüphanesidir.\n",
    "import matplotlib.pyplot as plt #numpy için bir çizim kütüphanesidir. \n",
    "import pandas as pd             #kullanımı kolay veri yapıları ve veri analiz araçları sağlayan, zaman serileri analizinde de kullanılan bir kütüphanedir. "
   ]
  },
  {
   "cell_type": "markdown",
   "metadata": {},
   "source": [
    "##### Verisetini İçe Aktarma"
   ]
  },
  {
   "cell_type": "code",
   "execution_count": 5,
   "metadata": {},
   "outputs": [
    {
     "data": {
      "text/html": [
       "<div>\n",
       "<style scoped>\n",
       "    .dataframe tbody tr th:only-of-type {\n",
       "        vertical-align: middle;\n",
       "    }\n",
       "\n",
       "    .dataframe tbody tr th {\n",
       "        vertical-align: top;\n",
       "    }\n",
       "\n",
       "    .dataframe thead th {\n",
       "        text-align: right;\n",
       "    }\n",
       "</style>\n",
       "<table border=\"1\" class=\"dataframe\">\n",
       "  <thead>\n",
       "    <tr style=\"text-align: right;\">\n",
       "      <th></th>\n",
       "      <th>Date</th>\n",
       "      <th>Open</th>\n",
       "      <th>High</th>\n",
       "      <th>Low</th>\n",
       "      <th>Close</th>\n",
       "      <th>Adj Close</th>\n",
       "      <th>Volume</th>\n",
       "    </tr>\n",
       "  </thead>\n",
       "  <tbody>\n",
       "    <tr>\n",
       "      <th>0</th>\n",
       "      <td>2013-01-02</td>\n",
       "      <td>79.117142</td>\n",
       "      <td>79.285713</td>\n",
       "      <td>77.375717</td>\n",
       "      <td>78.432854</td>\n",
       "      <td>68.502106</td>\n",
       "      <td>140129500</td>\n",
       "    </tr>\n",
       "    <tr>\n",
       "      <th>1</th>\n",
       "      <td>2013-01-03</td>\n",
       "      <td>78.268570</td>\n",
       "      <td>78.524284</td>\n",
       "      <td>77.285713</td>\n",
       "      <td>77.442856</td>\n",
       "      <td>67.637436</td>\n",
       "      <td>88241300</td>\n",
       "    </tr>\n",
       "    <tr>\n",
       "      <th>2</th>\n",
       "      <td>2013-01-04</td>\n",
       "      <td>76.709999</td>\n",
       "      <td>76.947144</td>\n",
       "      <td>75.118568</td>\n",
       "      <td>75.285713</td>\n",
       "      <td>65.753418</td>\n",
       "      <td>148583400</td>\n",
       "    </tr>\n",
       "    <tr>\n",
       "      <th>3</th>\n",
       "      <td>2013-01-07</td>\n",
       "      <td>74.571426</td>\n",
       "      <td>75.614288</td>\n",
       "      <td>73.599998</td>\n",
       "      <td>74.842857</td>\n",
       "      <td>65.366646</td>\n",
       "      <td>121039100</td>\n",
       "    </tr>\n",
       "    <tr>\n",
       "      <th>4</th>\n",
       "      <td>2013-01-08</td>\n",
       "      <td>75.601425</td>\n",
       "      <td>75.984283</td>\n",
       "      <td>74.464287</td>\n",
       "      <td>75.044289</td>\n",
       "      <td>65.542587</td>\n",
       "      <td>114676800</td>\n",
       "    </tr>\n",
       "  </tbody>\n",
       "</table>\n",
       "</div>"
      ],
      "text/plain": [
       "         Date       Open       High        Low      Close  Adj Close  \\\n",
       "0  2013-01-02  79.117142  79.285713  77.375717  78.432854  68.502106   \n",
       "1  2013-01-03  78.268570  78.524284  77.285713  77.442856  67.637436   \n",
       "2  2013-01-04  76.709999  76.947144  75.118568  75.285713  65.753418   \n",
       "3  2013-01-07  74.571426  75.614288  73.599998  74.842857  65.366646   \n",
       "4  2013-01-08  75.601425  75.984283  74.464287  75.044289  65.542587   \n",
       "\n",
       "      Volume  \n",
       "0  140129500  \n",
       "1   88241300  \n",
       "2  148583400  \n",
       "3  121039100  \n",
       "4  114676800  "
      ]
     },
     "execution_count": 5,
     "metadata": {},
     "output_type": "execute_result"
    }
   ],
   "source": [
    "#verisetimizi ilk başta yaptığımız gibi pandas'ın csv okuma özelliği ile tanımlıyoruz ve önizlemesini alıyoruz.\n",
    "apple_traning_dataset = pd.read_csv('dataset.csv')\n",
    "apple_traning_dataset.head()"
   ]
  },
  {
   "cell_type": "code",
   "execution_count": 6,
   "metadata": {},
   "outputs": [
    {
     "name": "stdout",
     "output_type": "stream",
     "text": [
      "<class 'pandas.core.frame.DataFrame'>\n",
      "RangeIndex: 1259 entries, 0 to 1258\n",
      "Data columns (total 7 columns):\n",
      " #   Column     Non-Null Count  Dtype  \n",
      "---  ------     --------------  -----  \n",
      " 0   Date       1259 non-null   object \n",
      " 1   Open       1259 non-null   float64\n",
      " 2   High       1259 non-null   float64\n",
      " 3   Low        1259 non-null   float64\n",
      " 4   Close      1259 non-null   float64\n",
      " 5   Adj Close  1259 non-null   float64\n",
      " 6   Volume     1259 non-null   int64  \n",
      "dtypes: float64(5), int64(1), object(1)\n",
      "memory usage: 69.0+ KB\n"
     ]
    }
   ],
   "source": [
    "#verisetimiz hakkında bilgilendirme. Değişkenleri sayısı, türü, boş değer içerip içermediğini gösterir. \n",
    "apple_traning_dataset.info()"
   ]
  },
  {
   "cell_type": "code",
   "execution_count": 7,
   "metadata": {},
   "outputs": [],
   "source": [
    "#verimizde sadece açılış değerlerini kullancağımız için verisetini numpy ile Open kolonunu alarak yeni bir işlenmiş değişken tanımlıyoruz ve önizlemesini alıyoruz.\n",
    "apple_traning_processed = apple_traning_dataset.iloc[:, 1:2].values"
   ]
  },
  {
   "cell_type": "markdown",
   "metadata": {},
   "source": [
    "##### Veri Normalizasyonu"
   ]
  },
  {
   "cell_type": "markdown",
   "metadata": {},
   "source": [
    "Bir sinir ağını kullanırken verilerimizi normalleştirmeli veya ölçeklendirmeliyiz. Verilerimizi 0 ile 1 arasında ölçeklendirmek için MinMaxScalar kütüphanesinden sklear.preprocessing sınıfını kullacağız. "
   ]
  },
  {
   "cell_type": "code",
   "execution_count": 8,
   "metadata": {},
   "outputs": [],
   "source": [
    "from sklearn.preprocessing import MinMaxScaler"
   ]
  },
  {
   "cell_type": "code",
   "execution_count": 9,
   "metadata": {},
   "outputs": [],
   "source": [
    "scaler = MinMaxScaler(feature_range=(0, 1)) #feature_range ile verilerin aralığını belirtiyoruz.\n",
    "apple_traning_scaled = scaler.fit_transform(apple_traning_processed) #en son işlediğimiz değişkenimize normalize transform işlemini yapıp yeni bir değişkene atıyoruz."
   ]
  },
  {
   "cell_type": "markdown",
   "metadata": {},
   "source": [
    "##### Eğitim Veriseti Belirleme "
   ]
  },
  {
   "cell_type": "markdown",
   "metadata": {},
   "source": [
    "Modelimizi eğitmeden önce eğitim ve test verilerimizi belirleyip ayarlamalıyız. Bu denemede, son 60 güne ait açılış hisse senedi fiyatlarına dayanarak verilerin tahminlemesi sağlayacağız. Farklı sayılarla da test edebilir ve algoritmanızın nasıl performans gösterdiğini deneyebilirsiniz. "
   ]
  },
  {
   "cell_type": "code",
   "execution_count": 10,
   "metadata": {},
   "outputs": [],
   "source": [
    "features_set = [] #input\n",
    "labels = [] #output\n",
    "for i in range(60, 1259):\n",
    "    features_set.append(apple_traning_scaled[i-60:i, 0])\n",
    "    labels.append(apple_traning_scaled[i, 0])\n",
    "#eğitim verimizde 1259 veri bulunmaktadır. 61. kayıttan başlayan ve önceki 60 kaydın tamamını feature_set e kaydeden bir döngü oluşturduk. "
   ]
  },
  {
   "cell_type": "code",
   "execution_count": 11,
   "metadata": {},
   "outputs": [],
   "source": [
    "features_set, labels = np.array(features_set), np.array(labels) #son değişkenlerimizi numpy dizisine çeviriyoruz"
   ]
  },
  {
   "cell_type": "code",
   "execution_count": 12,
   "metadata": {},
   "outputs": [],
   "source": [
    "features_set = np.reshape(features_set, (features_set.shape[0], features_set.shape[1], 1))\n",
    "#Modeli eğitmeye başlamadan verilerimizi LSTM ile çalışabilecek şekle dönüştürmeliyiz.\n",
    "#Verilerimizi üç boyutlu şekle dönüştürmeliyiz.\n",
    "#ilk boyut, 1259 verimizin sıralanma numaraları\n",
    "#ikinci boyut, 60 olan zaman adımı sayısı\n",
    "#son boyut ise gösterge sayısıdır."
   ]
  },
  {
   "cell_type": "markdown",
   "metadata": {},
   "source": [
    "#### __LSTM'nin Eğitimi__"
   ]
  },
  {
   "cell_type": "markdown",
   "metadata": {},
   "source": [
    "Verilerimizi işledik ve istediğimiz biçimlere dönüştürdük. Şimdi LSTM'imizi oluşturmanın tam zamanı. Oluşturacağımız LSTM modeli, çoklu katmanlara sahip sıralı bir model olacaktır. Modelimize 4 LSTM katmanı ve ardından gelecekteki hisse senedi fiyatını öngören bir yoğun katman(dense layer) ekleyeceğiz. "
   ]
  },
  {
   "cell_type": "markdown",
   "metadata": {},
   "source": [
    "Öncelikle modelimizi oluşturmak için ihtiyaç duyduğumuz kütüphaneleri aktaralım:"
   ]
  },
  {
   "cell_type": "code",
   "execution_count": 13,
   "metadata": {},
   "outputs": [
    {
     "name": "stderr",
     "output_type": "stream",
     "text": [
      "Using TensorFlow backend.\n"
     ]
    }
   ],
   "source": [
    "#Keras kütüphanesi arkaplanda TensorFlow'u kullanacaktır. \n",
    "from keras.models import Sequential #Sequential, her katmanın tam olarak bir giriş tensörüne ve bir çıkış tensörüne sahip olduğu düz bir katman yığını için uygundur.\n",
    "from keras.layers import Dense #Dense, düzenli olarak derinden bağlı sinir ağı katmanıdır. Çok kullanılan bir tabakadır. \n",
    "                               #Dense, girişte aşağıdaki işlemi yapar ve çıktıyı döndürür.\n",
    "                               # output = activation(dot(input, kernel) + bias)\n",
    "from keras.layers import LSTM  #LSTM, bir çeşit tekrarlayan sinir ağıdır. Zamana ve diziye bağlı davranışları modellemeye ve tahminlemeye çalışa bir sinir ağıdır.\n",
    "from keras.layers import Dropout # Dropout, bir modelin ezberlemesini(overfitting) önlemek için kullanılan bir tekniktir.\n",
    "                                # Eğitim aşamasının her güncellemesinde gizli birimlerin outgoing edges değerlerini rastgele olarak 0'a ayarlayarak çalışır."
   ]
  },
  {
   "cell_type": "markdown",
   "metadata": {},
   "source": [
    "İlk olarak Sequential'i tanımlamamız gerekir. Bu bizim model sınıfımız olacak ve bu modele LSTM, Dropout ve Dense katmanları ekleyeceğiz."
   ]
  },
  {
   "cell_type": "code",
   "execution_count": 14,
   "metadata": {},
   "outputs": [],
   "source": [
    "model = Sequential()"
   ]
  },
  {
   "cell_type": "markdown",
   "metadata": {},
   "source": [
    "##### LSTM ve Dropout Katmanlarını Oluşturma"
   ]
  },
  {
   "cell_type": "code",
   "execution_count": 15,
   "metadata": {},
   "outputs": [],
   "source": [
    "model.add(LSTM(units=50, return_sequences=True, input_shape=(features_set.shape[1], 1)))\n",
    "# Sequential modele bir katman eklemek için \"add\" yöntemi kullanılır ve yukarıda add yöntemi ile modelimize LSTM katmanımızı ekledik.\n",
    "# LSTM katmanının ilk parametresi(units=50), katmanda istediğimiz nöron sayısıdır.\n",
    "# İkinci parametre(return_sequences), modele daha fazla katman ekleyeceğimiz için True olarak ayarlanmıştır. \n",
    "# input_shape'inilk parametresi zaman adımlarının sayısı, son parametre göstergelerin(indicators) sayısıdır."
   ]
  },
  {
   "cell_type": "code",
   "execution_count": 16,
   "metadata": {},
   "outputs": [],
   "source": [
    "model.add(Dropout(0.2))\n",
    "# yukarıda belirttiğimiz gibi Dropout, ezberlemenin(overfitting) önüne geçerek daha iyi bir traning yapmayı sağlar. "
   ]
  },
  {
   "cell_type": "code",
   "execution_count": 17,
   "metadata": {},
   "outputs": [],
   "source": [
    "# 3 tane daha LSTM modeli ve dropout katmanı ekliyoruz.\n",
    "model.add(LSTM(units=50, return_sequences=True))\n",
    "model.add(Dropout(0.2))\n",
    "\n",
    "model.add(LSTM(units=50, return_sequences=True))\n",
    "model.add(Dropout(0.2))\n",
    "\n",
    "model.add(LSTM(units=50))\n",
    "model.add(Dropout(0.2))"
   ]
  },
  {
   "cell_type": "markdown",
   "metadata": {},
   "source": [
    "##### Dense Katmanını Oluşturma"
   ]
  },
  {
   "cell_type": "markdown",
   "metadata": {},
   "source": [
    "Modelimizi daha sağlam hale getirmek için modelin sonuna dense katmanını ekliyoruz. Dense katmanındaki nöron sayısını 1'e eşitliyoruz çünkü çıktıda tek bir değer tahmin etmek istiyoruz."
   ]
  },
  {
   "cell_type": "code",
   "execution_count": 19,
   "metadata": {},
   "outputs": [],
   "source": [
    "model.add(Dense(units = 1))"
   ]
  },
  {
   "cell_type": "markdown",
   "metadata": {},
   "source": [
    "##### Model Derleme"
   ]
  },
  {
   "cell_type": "markdown",
   "metadata": {},
   "source": [
    "Son olarak training verileri eğitebilmemiz için LSTM'yi compile işlemine dahil ederek derlememiz gerekmektedir. \n",
    "<br> Modelimize 'compile' metodunu ekliyoruz. Kayıp fonksiyonu olarak loss değerinde 'ortalama hata karesini(MSE)' kullandık ve kaybı azaltmak veya algoritmayı optimize etmek için de optimizer değişkeninde 'adam' optimizerını kullandık. \n",
    "<br> Probleme göre farklı 'loss' veya 'optimizer' parametreleri kullanılabilir. \n",
    "<br> Yukarıda kullandığımız Adam optimizasyonu, birinci ve ikinci dereceden momentlerin uyarlamalı tahminine dayanan stokastik bir gradyan iniş yöntemidir."
   ]
  },
  {
   "cell_type": "code",
   "execution_count": 20,
   "metadata": {},
   "outputs": [],
   "source": [
    "model.compile(optimizer = 'adam', loss = 'mean_squared_error')"
   ]
  },
  {
   "cell_type": "markdown",
   "metadata": {},
   "source": [
    "##### Algoritma Eğitimi"
   ]
  },
  {
   "cell_type": "markdown",
   "metadata": {},
   "source": [
    "Modelimizi eğitirken fit methodunu kullanıyoruz ve belirli hiperparametrelerimizi tanımlıyoruz.\n",
    "<br>Bu işlem donanıma bağlı olarak biraz zaman alabilir.\n",
    "<br> __Epochs;__ eğitimin tur, döngü sayısıdır. Modelde ilk parça eğitilir ve elde ettiği başarıma göre geriyayılım(backpropagation) ile ağırlıklar güncellenir. Bu işlem belirlenen sayı kadar devam eder. Eğitim işleminin doğruluğu başlarda artıp sonrasında doğruluğu azalmaya başlayıp overfitting olabilir, bu noktada doğruluğun en yüksek olduğu yerde epoch sayımız uygundur. \n",
    "<br>__Batch;__ ağa verilen alt örneklem sayısıdır. Batch değerinin yüksek olması doğru gradyan değerinin hesaplanmasını sağlamaktadır ancak belirlediğimiz batch değerinin GPU belleğine sığması gerekiyor. Bu yüzden batch boyutunu 2'nin katları şekilde belirlenir genelde 64 ile 512 arasında belirlenir. Eğitim kümesindeki eleman sayısına göre de değiştirilebilir. "
   ]
  },
  {
   "cell_type": "code",
   "execution_count": 21,
   "metadata": {},
   "outputs": [
    {
     "name": "stdout",
     "output_type": "stream",
     "text": [
      "Epoch 1/100\n",
      "1199/1199 [==============================] - 9s 7ms/step - loss: 0.0274\n",
      "Epoch 2/100\n",
      "1199/1199 [==============================] - 7s 6ms/step - loss: 0.0059\n",
      "Epoch 3/100\n",
      "1199/1199 [==============================] - 6s 5ms/step - loss: 0.0054\n",
      "Epoch 4/100\n",
      "1199/1199 [==============================] - 6s 5ms/step - loss: 0.0043\n",
      "Epoch 5/100\n",
      "1199/1199 [==============================] - 6s 5ms/step - loss: 0.0042\n",
      "Epoch 6/100\n",
      "1199/1199 [==============================] - 6s 5ms/step - loss: 0.0048\n",
      "Epoch 7/100\n",
      "1199/1199 [==============================] - 6s 5ms/step - loss: 0.0045\n",
      "Epoch 8/100\n",
      "1199/1199 [==============================] - 6s 5ms/step - loss: 0.0036\n",
      "Epoch 9/100\n",
      "1199/1199 [==============================] - 8s 7ms/step - loss: 0.0040\n",
      "Epoch 10/100\n",
      "1199/1199 [==============================] - 6s 5ms/step - loss: 0.0036\n",
      "Epoch 11/100\n",
      "1199/1199 [==============================] - 6s 5ms/step - loss: 0.0036\n",
      "Epoch 12/100\n",
      "1199/1199 [==============================] - 6s 5ms/step - loss: 0.0035\n",
      "Epoch 13/100\n",
      "1199/1199 [==============================] - 6s 5ms/step - loss: 0.0031\n",
      "Epoch 14/100\n",
      "1199/1199 [==============================] - 6s 5ms/step - loss: 0.0028\n",
      "Epoch 15/100\n",
      "1199/1199 [==============================] - 6s 5ms/step - loss: 0.0030\n",
      "Epoch 16/100\n",
      "1199/1199 [==============================] - 6s 5ms/step - loss: 0.0030\n",
      "Epoch 17/100\n",
      "1199/1199 [==============================] - 6s 5ms/step - loss: 0.0031\n",
      "Epoch 18/100\n",
      "1199/1199 [==============================] - 8s 7ms/step - loss: 0.0026\n",
      "Epoch 19/100\n",
      "1199/1199 [==============================] - 6s 5ms/step - loss: 0.0026\n",
      "Epoch 20/100\n",
      "1199/1199 [==============================] - 6s 5ms/step - loss: 0.0024\n",
      "Epoch 21/100\n",
      "1199/1199 [==============================] - 6s 5ms/step - loss: 0.0033\n",
      "Epoch 22/100\n",
      "1199/1199 [==============================] - 6s 5ms/step - loss: 0.0028\n",
      "Epoch 23/100\n",
      "1199/1199 [==============================] - 6s 5ms/step - loss: 0.0026\n",
      "Epoch 24/100\n",
      "1199/1199 [==============================] - 6s 5ms/step - loss: 0.0026\n",
      "Epoch 25/100\n",
      "1199/1199 [==============================] - 6s 5ms/step - loss: 0.0027\n",
      "Epoch 26/100\n",
      "1199/1199 [==============================] - 6s 5ms/step - loss: 0.0023\n",
      "Epoch 27/100\n",
      "1199/1199 [==============================] - 6s 5ms/step - loss: 0.0023\n",
      "Epoch 28/100\n",
      "1199/1199 [==============================] - 8s 7ms/step - loss: 0.0025\n",
      "Epoch 29/100\n",
      "1199/1199 [==============================] - 6s 5ms/step - loss: 0.0024\n",
      "Epoch 30/100\n",
      "1199/1199 [==============================] - 6s 5ms/step - loss: 0.0021\n",
      "Epoch 31/100\n",
      "1199/1199 [==============================] - 6s 5ms/step - loss: 0.0021\n",
      "Epoch 32/100\n",
      "1199/1199 [==============================] - 7s 6ms/step - loss: 0.0021\n",
      "Epoch 33/100\n",
      "1199/1199 [==============================] - 7s 6ms/step - loss: 0.0022\n",
      "Epoch 34/100\n",
      "1199/1199 [==============================] - 7s 6ms/step - loss: 0.0022\n",
      "Epoch 35/100\n",
      "1199/1199 [==============================] - 6s 5ms/step - loss: 0.0018\n",
      "Epoch 36/100\n",
      "1199/1199 [==============================] - 6s 5ms/step - loss: 0.0022\n",
      "Epoch 37/100\n",
      "1199/1199 [==============================] - 8s 6ms/step - loss: 0.0022\n",
      "Epoch 38/100\n",
      "1199/1199 [==============================] - 6s 5ms/step - loss: 0.0020\n",
      "Epoch 39/100\n",
      "1199/1199 [==============================] - 6s 5ms/step - loss: 0.0020\n",
      "Epoch 40/100\n",
      "1199/1199 [==============================] - 6s 5ms/step - loss: 0.0022\n",
      "Epoch 41/100\n",
      "1199/1199 [==============================] - 6s 5ms/step - loss: 0.0019\n",
      "Epoch 42/100\n",
      "1199/1199 [==============================] - 6s 5ms/step - loss: 0.0019\n",
      "Epoch 43/100\n",
      "1199/1199 [==============================] - 6s 5ms/step - loss: 0.0019\n",
      "Epoch 44/100\n",
      "1199/1199 [==============================] - 6s 5ms/step - loss: 0.0019\n",
      "Epoch 45/100\n",
      "1199/1199 [==============================] - 6s 5ms/step - loss: 0.0018\n",
      "Epoch 46/100\n",
      "1199/1199 [==============================] - 8s 6ms/step - loss: 0.0018\n",
      "Epoch 47/100\n",
      "1199/1199 [==============================] - 6s 5ms/step - loss: 0.0016\n",
      "Epoch 48/100\n",
      "1199/1199 [==============================] - 6s 5ms/step - loss: 0.0019\n",
      "Epoch 49/100\n",
      "1199/1199 [==============================] - 6s 5ms/step - loss: 0.0019\n",
      "Epoch 50/100\n",
      "1199/1199 [==============================] - 6s 5ms/step - loss: 0.0017A: 2s \n",
      "Epoch 51/100\n",
      "1199/1199 [==============================] - 6s 5ms/step - loss: 0.0016\n",
      "Epoch 52/100\n",
      "1199/1199 [==============================] - 6s 5ms/step - loss: 0.0017\n",
      "Epoch 53/100\n",
      "1199/1199 [==============================] - 6s 5ms/step - loss: 0.0016\n",
      "Epoch 54/100\n",
      "1199/1199 [==============================] - 6s 5ms/step - loss: 0.0019\n",
      "Epoch 55/100\n",
      "1199/1199 [==============================] - 6s 5ms/step - loss: 0.0017\n",
      "Epoch 56/100\n",
      "1199/1199 [==============================] - 8s 7ms/step - loss: 0.0017\n",
      "Epoch 57/100\n",
      "1199/1199 [==============================] - 6s 5ms/step - loss: 0.0021\n",
      "Epoch 58/100\n",
      "1199/1199 [==============================] - 6s 5ms/step - loss: 0.0015\n",
      "Epoch 59/100\n",
      "1199/1199 [==============================] - 6s 5ms/step - loss: 0.0017\n",
      "Epoch 60/100\n",
      "1199/1199 [==============================] - 6s 5ms/step - loss: 0.0015\n",
      "Epoch 61/100\n",
      "1199/1199 [==============================] - 6s 5ms/step - loss: 0.0014\n",
      "Epoch 62/100\n",
      "1199/1199 [==============================] - 6s 5ms/step - loss: 0.0017\n",
      "Epoch 63/100\n",
      "1199/1199 [==============================] - 6s 5ms/step - loss: 0.0016\n",
      "Epoch 64/100\n",
      "1199/1199 [==============================] - 6s 5ms/step - loss: 0.0015\n",
      "Epoch 65/100\n",
      "1199/1199 [==============================] - 8s 7ms/step - loss: 0.0015\n",
      "Epoch 66/100\n",
      "1199/1199 [==============================] - 6s 5ms/step - loss: 0.0015\n",
      "Epoch 67/100\n",
      "1199/1199 [==============================] - 6s 5ms/step - loss: 0.0014\n",
      "Epoch 68/100\n",
      "1199/1199 [==============================] - 6s 5ms/step - loss: 0.0013\n",
      "Epoch 69/100\n",
      "1199/1199 [==============================] - 6s 5ms/step - loss: 0.0013\n",
      "Epoch 70/100\n",
      "1199/1199 [==============================] - 6s 5ms/step - loss: 0.0014\n",
      "Epoch 71/100\n",
      "1199/1199 [==============================] - 7s 6ms/step - loss: 0.0014\n",
      "Epoch 72/100\n",
      "1199/1199 [==============================] - 7s 6ms/step - loss: 0.0012\n",
      "Epoch 73/100\n",
      "1199/1199 [==============================] - 6s 5ms/step - loss: 0.0014\n",
      "Epoch 74/100\n",
      "1199/1199 [==============================] - 6s 5ms/step - loss: 0.0013\n",
      "Epoch 75/100\n",
      "1199/1199 [==============================] - 8s 6ms/step - loss: 0.0013\n",
      "Epoch 76/100\n",
      "1199/1199 [==============================] - 6s 5ms/step - loss: 0.0013\n",
      "Epoch 77/100\n",
      "1199/1199 [==============================] - 6s 5ms/step - loss: 0.0012\n",
      "Epoch 78/100\n",
      "1199/1199 [==============================] - 6s 5ms/step - loss: 0.0012\n",
      "Epoch 79/100\n",
      "1199/1199 [==============================] - 6s 5ms/step - loss: 0.0013\n",
      "Epoch 80/100\n",
      "1199/1199 [==============================] - 7s 5ms/step - loss: 0.0013\n",
      "Epoch 81/100\n",
      "1199/1199 [==============================] - 8s 7ms/step - loss: 0.0013\n",
      "Epoch 82/100\n",
      "1199/1199 [==============================] - 7s 6ms/step - loss: 0.0013\n",
      "Epoch 83/100\n",
      "1199/1199 [==============================] - 9s 8ms/step - loss: 0.0014\n",
      "Epoch 84/100\n",
      "1199/1199 [==============================] - 9s 7ms/step - loss: 0.0012\n",
      "Epoch 85/100\n",
      "1199/1199 [==============================] - 7s 6ms/step - loss: 0.0013\n",
      "Epoch 86/100\n",
      "1199/1199 [==============================] - 6s 5ms/step - loss: 0.0012\n",
      "Epoch 87/100\n",
      "1199/1199 [==============================] - 7s 6ms/step - loss: 0.0012\n",
      "Epoch 88/100\n",
      "1199/1199 [==============================] - 7s 6ms/step - loss: 0.0011\n",
      "Epoch 89/100\n",
      "1199/1199 [==============================] - 7s 6ms/step - loss: 0.0012\n",
      "Epoch 90/100\n",
      "1199/1199 [==============================] - 6s 5ms/step - loss: 0.0012A: 0s - loss: 0\n",
      "Epoch 91/100\n",
      "1199/1199 [==============================] - 8s 6ms/step - loss: 0.0010\n",
      "Epoch 92/100\n",
      "1199/1199 [==============================] - 7s 6ms/step - loss: 0.0014A: 3s - loss: 0. - ETA: 2s -\n",
      "Epoch 93/100\n",
      "1199/1199 [==============================] - 6s 5ms/step - loss: 0.0013\n",
      "Epoch 94/100\n",
      "1199/1199 [==============================] - 6s 5ms/step - loss: 0.0012\n",
      "Epoch 95/100\n",
      "1199/1199 [==============================] - 6s 5ms/step - loss: 0.0011\n",
      "Epoch 96/100\n",
      "1199/1199 [==============================] - 6s 5ms/step - loss: 0.0011\n",
      "Epoch 97/100\n",
      "1199/1199 [==============================] - 6s 5ms/step - loss: 0.0012\n",
      "Epoch 98/100\n",
      "1199/1199 [==============================] - 6s 5ms/step - loss: 0.0011\n",
      "Epoch 99/100\n",
      "1199/1199 [==============================] - 6s 5ms/step - loss: 0.0011\n",
      "Epoch 100/100\n",
      "1199/1199 [==============================] - 6s 5ms/step - loss: 0.0012\n"
     ]
    },
    {
     "data": {
      "text/plain": [
       "<keras.callbacks.callbacks.History at 0x244dfe17888>"
      ]
     },
     "execution_count": 21,
     "metadata": {},
     "output_type": "execute_result"
    }
   ],
   "source": [
    "model.fit(features_set, labels, epochs = 100, batch_size = 32)"
   ]
  },
  {
   "cell_type": "markdown",
   "metadata": {},
   "source": [
    "#### __LSTM'yi Test Etme__"
   ]
  },
  {
   "cell_type": "markdown",
   "metadata": {},
   "source": [
    "LSTM'yi eğitme işlemi bittikten sonra şimdi Ocak 2018 ayı için açılış hisse senedi fiyatlarını tahmin ederek algoritmanın test setindeki performansını ölçme zamanı. \n",
    "<br>Test verilerimizi içe aktarıp, en başta yaptığımız gibi 'iloc' methodu ile sadece Open değerlerimizi belirliyoruz. "
   ]
  },
  {
   "cell_type": "code",
   "execution_count": 24,
   "metadata": {},
   "outputs": [],
   "source": [
    "apple_testing_complete = pd.read_csv('Dataset_testing.csv')\n",
    "apple_testing_processed = apple_testing_complete.iloc[:, 1:2].values"
   ]
  },
  {
   "cell_type": "markdown",
   "metadata": {},
   "source": [
    "Test veri setimizi dataframe yaparak hem tablo şeklinde görüntüleyip hem de grafiğini görüntüleyelim."
   ]
  },
  {
   "cell_type": "code",
   "execution_count": 37,
   "metadata": {},
   "outputs": [
    {
     "data": {
      "text/html": [
       "<div>\n",
       "<style scoped>\n",
       "    .dataframe tbody tr th:only-of-type {\n",
       "        vertical-align: middle;\n",
       "    }\n",
       "\n",
       "    .dataframe tbody tr th {\n",
       "        vertical-align: top;\n",
       "    }\n",
       "\n",
       "    .dataframe thead th {\n",
       "        text-align: right;\n",
       "    }\n",
       "</style>\n",
       "<table border=\"1\" class=\"dataframe\">\n",
       "  <thead>\n",
       "    <tr style=\"text-align: right;\">\n",
       "      <th></th>\n",
       "      <th>Date</th>\n",
       "      <th>Open</th>\n",
       "      <th>High</th>\n",
       "      <th>Low</th>\n",
       "      <th>Close</th>\n",
       "      <th>Adj Close</th>\n",
       "      <th>Volume</th>\n",
       "    </tr>\n",
       "  </thead>\n",
       "  <tbody>\n",
       "    <tr>\n",
       "      <th>0</th>\n",
       "      <td>2018-01-02</td>\n",
       "      <td>170.160004</td>\n",
       "      <td>172.300003</td>\n",
       "      <td>169.259995</td>\n",
       "      <td>172.259995</td>\n",
       "      <td>166.353714</td>\n",
       "      <td>25555900</td>\n",
       "    </tr>\n",
       "    <tr>\n",
       "      <th>1</th>\n",
       "      <td>2018-01-03</td>\n",
       "      <td>172.529999</td>\n",
       "      <td>174.550003</td>\n",
       "      <td>171.960007</td>\n",
       "      <td>172.229996</td>\n",
       "      <td>166.324722</td>\n",
       "      <td>29517900</td>\n",
       "    </tr>\n",
       "    <tr>\n",
       "      <th>2</th>\n",
       "      <td>2018-01-04</td>\n",
       "      <td>172.539993</td>\n",
       "      <td>173.470001</td>\n",
       "      <td>172.080002</td>\n",
       "      <td>173.029999</td>\n",
       "      <td>167.097290</td>\n",
       "      <td>22434600</td>\n",
       "    </tr>\n",
       "    <tr>\n",
       "      <th>3</th>\n",
       "      <td>2018-01-05</td>\n",
       "      <td>173.440002</td>\n",
       "      <td>175.369995</td>\n",
       "      <td>173.050003</td>\n",
       "      <td>175.000000</td>\n",
       "      <td>168.999741</td>\n",
       "      <td>23660000</td>\n",
       "    </tr>\n",
       "    <tr>\n",
       "      <th>4</th>\n",
       "      <td>2018-01-08</td>\n",
       "      <td>174.350006</td>\n",
       "      <td>175.610001</td>\n",
       "      <td>173.929993</td>\n",
       "      <td>174.350006</td>\n",
       "      <td>168.372040</td>\n",
       "      <td>20567800</td>\n",
       "    </tr>\n",
       "  </tbody>\n",
       "</table>\n",
       "</div>"
      ],
      "text/plain": [
       "         Date        Open        High         Low       Close   Adj Close  \\\n",
       "0  2018-01-02  170.160004  172.300003  169.259995  172.259995  166.353714   \n",
       "1  2018-01-03  172.529999  174.550003  171.960007  172.229996  166.324722   \n",
       "2  2018-01-04  172.539993  173.470001  172.080002  173.029999  167.097290   \n",
       "3  2018-01-05  173.440002  175.369995  173.050003  175.000000  168.999741   \n",
       "4  2018-01-08  174.350006  175.610001  173.929993  174.350006  168.372040   \n",
       "\n",
       "     Volume  \n",
       "0  25555900  \n",
       "1  29517900  \n",
       "2  22434600  \n",
       "3  23660000  \n",
       "4  20567800  "
      ]
     },
     "execution_count": 37,
     "metadata": {},
     "output_type": "execute_result"
    }
   ],
   "source": [
    "df_testing = pd.read_csv('Dataset_testing.csv')\n",
    "df_testing.head()"
   ]
  },
  {
   "cell_type": "code",
   "execution_count": 34,
   "metadata": {},
   "outputs": [
    {
     "data": {
      "text/plain": [
       "<matplotlib.axes._subplots.AxesSubplot at 0x244e845a588>"
      ]
     },
     "execution_count": 34,
     "metadata": {},
     "output_type": "execute_result"
    },
    {
     "data": {
      "image/png": "[encoded data removed]",
      "text/plain": [
       "<Figure size 1080x360 with 1 Axes>"
      ]
     },
     "metadata": {
      "needs_background": "light"
     },
     "output_type": "display_data"
    }
   ],
   "source": [
    "df_testing.plot(kind='line', x='Date', y='Open', figsize=(15,5))"
   ]
  },
  {
   "cell_type": "markdown",
   "metadata": {},
   "source": [
    "Grafikte trendin oldukça doğrusal olmadığını görebilirsiniz. Genel olarak hisse senedi fiyatlarında ayın başında küçük bir artış ve ardından ay sonunda düşüş eğilimi görülürken, burada aradaki zaman aralıklarında da hisse senedi fiyatlarında hafif bir artış ve azalışlar görülmektedir. Böyle bir eğilimi tahmin etmek oldukça zordur. Eğittimiz LSTM böyle bir eğilimi tahmin edebilecek mi test edelim."
   ]
  },
  {
   "cell_type": "markdown",
   "metadata": {},
   "source": [
    "##### Test Verilerini Dönüştürme"
   ]
  },
  {
   "cell_type": "markdown",
   "metadata": {},
   "source": [
    "Ocak 2018'in her günü için feature setimizin önceki 60 güne ait açılış hisse senedi fiyatlarını içermesini istiyoruz. \n",
    "<br>Bunu yapmak için eğitim verilerimizi birleştirmemiz ve verileri test etmemiz gerekiyor.\n",
    "<br> Bunun içinde pandas'ın concat methodunu uyguluyoruz."
   ]
  },
  {
   "cell_type": "code",
   "execution_count": 35,
   "metadata": {},
   "outputs": [],
   "source": [
    "apple_total = pd.concat((apple_traning_dataset['Open'], apple_testing_complete['Open']), axis=0)"
   ]
  },
  {
   "cell_type": "markdown",
   "metadata": {},
   "source": [
    "Ocak ayına ait her bir girdimiz için önceki 60 güne ait hisse senedi fiyatlarını içermelidir. Ocak 2018 ayı için 20 test günü mevcut ve eğitim seti için de aldığımız son 60 günün 60 hisse senedi fiyatını açmamız gerekiyor."
   ]
  },
  {
   "cell_type": "code",
   "execution_count": 38,
   "metadata": {},
   "outputs": [],
   "source": [
    "test_inputs = apple_total[len(apple_total) - len(apple_testing_complete) - 60:].values"
   ]
  },
  {
   "cell_type": "code",
   "execution_count": 41,
   "metadata": {},
   "outputs": [
    {
     "data": {
      "text/plain": [
       "array([154.179993, 154.970001, 155.809998, 156.059998, 155.970001,\n",
       "       156.350006, 156.729996, 157.899994, 159.779999, 160.419998,\n",
       "       156.75    , 156.610001, 156.889999, 156.289993, 156.910004,\n",
       "       157.229996, 159.289993, 163.889999, 167.899994, 169.869995,\n",
       "       166.600006, 174.      , 172.369995, 173.910004, 174.660004,\n",
       "       175.110001, 175.110001, 173.5     , 173.039993, 169.970001,\n",
       "       171.179993, 171.039993, 170.289993, 170.779999, 173.360001,\n",
       "       175.100006, 175.050003, 174.300003, 172.630005, 170.429993,\n",
       "       169.949997, 172.479996, 169.059998, 167.5     , 169.029999,\n",
       "       170.490005, 169.199997, 172.149994, 172.5     , 172.399994,\n",
       "       173.630005, 174.880005, 175.029999, 174.869995, 174.169998,\n",
       "       174.679993, 170.800003, 170.100006, 171.      , 170.520004,\n",
       "       170.160004, 172.529999, 172.539993, 173.440002, 174.350006,\n",
       "       174.550003, 173.160004, 174.589996, 176.179993, 177.899994,\n",
       "       176.149994, 179.369995, 178.610001, 177.300003, 177.300003,\n",
       "       177.25    , 174.509995, 172.      , 170.160004, 165.529999])"
      ]
     },
     "execution_count": 41,
     "metadata": {},
     "output_type": "execute_result"
    }
   ],
   "source": [
    "test_inputs #oluşturduğumuz test_inputs'a baktığımızda 20 test seti ve 60 eğitim setinin birleştiği şekilde 80 adet veri bulunmaktadır."
   ]
  },
  {
   "cell_type": "markdown",
   "metadata": {},
   "source": [
    "En başlarda eğitim seti için yaptığımız gibi test verilerimizi de ölçeklendirmeliyiz."
   ]
  },
  {
   "cell_type": "code",
   "execution_count": 42,
   "metadata": {},
   "outputs": [],
   "source": [
    "test_inputs = test_inputs.reshape(-1,1)\n",
    "test_inputs = scaler.transform(test_inputs)"
   ]
  },
  {
   "cell_type": "markdown",
   "metadata": {},
   "source": [
    "Veriyi ölçeklendirdikten sonra şimdi Ocak ayı için önceki 60 hisse senedi fiyatlarını içerecek son test giriş setimizi hazırlayalım."
   ]
  },
  {
   "cell_type": "code",
   "execution_count": 44,
   "metadata": {},
   "outputs": [],
   "source": [
    "test_features = []\n",
    "for i in range(60, 80):\n",
    "    test_features.append(test_inputs[i-60:i, 0])"
   ]
  },
  {
   "cell_type": "markdown",
   "metadata": {},
   "source": [
    "Son olarak verileri LSTM'ye girdi olarak kullanabilecek üç boyutlu formata dönüştürmeliyiz."
   ]
  },
  {
   "cell_type": "code",
   "execution_count": 45,
   "metadata": {},
   "outputs": [],
   "source": [
    "test_features = np.array(test_features)\n",
    "test_features = np.reshape(test_features, (test_features.shape[0], test_features.shape[1], 1))"
   ]
  },
  {
   "cell_type": "markdown",
   "metadata": {},
   "source": [
    "#### __Tahmin Yapma__"
   ]
  },
  {
   "cell_type": "markdown",
   "metadata": {},
   "source": [
    "Öncelikle bu işlemi yapmak için oluşturduğumuz test_features setimize model.predict metodunu uygulamalıyız."
   ]
  },
  {
   "cell_type": "code",
   "execution_count": 47,
   "metadata": {},
   "outputs": [],
   "source": [
    "predictions = model.predict(test_features)"
   ]
  },
  {
   "cell_type": "markdown",
   "metadata": {},
   "source": [
    "Verileri ölçeklendirdiğimiz için LSTM tarafından yapılan tahminler de ölçeklendirilmektedir. Ölçekli tahmin değerlerini inverse_transform ile gerçek değerlere dönüştürüyoruz."
   ]
  },
  {
   "cell_type": "code",
   "execution_count": 48,
   "metadata": {},
   "outputs": [],
   "source": [
    "predictions = scaler.inverse_transform(predictions)"
   ]
  },
  {
   "cell_type": "markdown",
   "metadata": {},
   "source": [
    "Son olarak tahmin edilen değerleri gerçek değerlerle karşılaştıralım. Bunun için de matplot kütüphanesinin grafiklerinden faydalanıyoruz."
   ]
  },
  {
   "cell_type": "code",
   "execution_count": 52,
   "metadata": {},
   "outputs": [
    {
     "data": {
      "image/png": "[encoded data removed]",
      "text/plain": [
       "<Figure size 1080x360 with 1 Axes>"
      ]
     },
     "metadata": {
      "needs_background": "light"
     },
     "output_type": "display_data"
    }
   ],
   "source": [
    "plt.figure(figsize=(15,5))\n",
    "plt.plot(apple_testing_processed, color='blue', label='Reel Apple Hisse Senedi')\n",
    "plt.plot(predictions , color='red', label='Tahmini Apple Hisse Senedi')\n",
    "plt.title('Apple Hisse Senedi Tahminlemesi')\n",
    "plt.xlabel('Date')\n",
    "plt.ylabel('Apple Stock Price')\n",
    "plt.legend()\n",
    "plt.show()"
   ]
  },
  {
   "cell_type": "markdown",
   "metadata": {},
   "source": [
    "Çok yakın tahminler olmasa da algoritmanın genel eğilimi yakalayabildiğini söyleyebiliriz."
   ]
  },
  {
   "cell_type": "markdown",
   "metadata": {},
   "source": [
    "### Kaynakça"
   ]
  },
  {
   "cell_type": "markdown",
   "metadata": {},
   "source": [
    "Bu çalışma hazırlanırken aşağıdaki içeriklerden faydalanılmıştır.\n",
    "<br>https://stackabuse.com/time-series-analysis-with-lstm-using-pythons-keras-library/\n",
    "<br>https://keras.io/guides/\n",
    "<br>https://towardsdatascience.com/machine-learning-part-20-dropout-keras-layers-explained-8c9f6dc4c9ab#:~:text=Dropout%20is%20a%20technique%20used,update%20of%20the%20training%20phase.\n",
    "<br>https://devhunteryz.wordpress.com/2018/08/27/yapay-sinir-aglarindaki-hiperparametreler/\n",
    "<br>https://medium.com/deep-learning-turkiye/derin-ogrenme-uygulamalarinda-en-sik-kullanilan-hiper-parametreler-ece8e9125c4\n"
   ]
  }
 ],
 "metadata": {
  "kernelspec": {
   "display_name": "Python 3",
   "language": "python",
   "name": "python3"
  },
  "language_info": {
   "codemirror_mode": {
    "name": "ipython",
    "version": 3
   },
   "file_extension": ".py",
   "mimetype": "text/x-python",
   "name": "python",
   "nbconvert_exporter": "python",
   "pygments_lexer": "ipython3",
   "version": "3.7.7"
  }
 },
 "nbformat": 4,
 "nbformat_minor": 4
}
